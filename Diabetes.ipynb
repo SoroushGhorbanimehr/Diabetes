{
  "nbformat": 4,
  "nbformat_minor": 0,
  "metadata": {
    "accelerator": "GPU",
    "colab": {
      "name": "Diabetes.ipynb",
      "provenance": [],
      "collapsed_sections": []
    },
    "kernelspec": {
      "display_name": "Python 3",
      "name": "python3"
    }
  },
  "cells": [
    {
      "cell_type": "code",
      "metadata": {
        "id": "yW4vPARJzDCE"
      },
      "source": [
        "import tensorflow as tf\n",
        "import numpy as np \n",
        "import pandas as pd \n",
        "import matplotlib.pyplot as plt"
      ],
      "execution_count": 1,
      "outputs": []
    },
    {
      "cell_type": "code",
      "metadata": {
        "id": "pA6UJ_PAjrRO"
      },
      "source": [
        "dataset = pd.read_csv('/content/diabetes.csv')"
      ],
      "execution_count": 2,
      "outputs": []
    },
    {
      "cell_type": "code",
      "metadata": {
        "colab": {
          "base_uri": "https://localhost:8080/",
          "height": 406
        },
        "id": "VBoSSXjwXZ_-",
        "outputId": "71c96e70-fa42-4cb7-9b97-f2753759e157"
      },
      "source": [
        "X = dataset.iloc[: ,:-1]\n",
        "y = dataset.iloc[: ,-1]\n",
        "X = np.asarray(X).astype('float32')\n",
        "y = np.asarray(y).astype('float32')\n",
        "from sklearn.model_selection import train_test_split\n",
        "X_train, X_test, y_train, y_test = train_test_split(X, y, test_size=0.3, random_state=42)\n",
        "pd.DataFrame(X_train)"
      ],
      "execution_count": 39,
      "outputs": [
        {
          "output_type": "execute_result",
          "data": {
            "text/html": [
              "<div>\n",
              "<style scoped>\n",
              "    .dataframe tbody tr th:only-of-type {\n",
              "        vertical-align: middle;\n",
              "    }\n",
              "\n",
              "    .dataframe tbody tr th {\n",
              "        vertical-align: top;\n",
              "    }\n",
              "\n",
              "    .dataframe thead th {\n",
              "        text-align: right;\n",
              "    }\n",
              "</style>\n",
              "<table border=\"1\" class=\"dataframe\">\n",
              "  <thead>\n",
              "    <tr style=\"text-align: right;\">\n",
              "      <th></th>\n",
              "      <th>0</th>\n",
              "      <th>1</th>\n",
              "      <th>2</th>\n",
              "      <th>3</th>\n",
              "      <th>4</th>\n",
              "      <th>5</th>\n",
              "      <th>6</th>\n",
              "      <th>7</th>\n",
              "    </tr>\n",
              "  </thead>\n",
              "  <tbody>\n",
              "    <tr>\n",
              "      <th>0</th>\n",
              "      <td>1.0</td>\n",
              "      <td>95.0</td>\n",
              "      <td>60.0</td>\n",
              "      <td>18.0</td>\n",
              "      <td>58.0</td>\n",
              "      <td>23.900000</td>\n",
              "      <td>0.260</td>\n",
              "      <td>22.0</td>\n",
              "    </tr>\n",
              "    <tr>\n",
              "      <th>1</th>\n",
              "      <td>5.0</td>\n",
              "      <td>105.0</td>\n",
              "      <td>72.0</td>\n",
              "      <td>29.0</td>\n",
              "      <td>325.0</td>\n",
              "      <td>36.900002</td>\n",
              "      <td>0.159</td>\n",
              "      <td>28.0</td>\n",
              "    </tr>\n",
              "    <tr>\n",
              "      <th>2</th>\n",
              "      <td>0.0</td>\n",
              "      <td>135.0</td>\n",
              "      <td>68.0</td>\n",
              "      <td>42.0</td>\n",
              "      <td>250.0</td>\n",
              "      <td>42.299999</td>\n",
              "      <td>0.365</td>\n",
              "      <td>24.0</td>\n",
              "    </tr>\n",
              "    <tr>\n",
              "      <th>3</th>\n",
              "      <td>4.0</td>\n",
              "      <td>131.0</td>\n",
              "      <td>68.0</td>\n",
              "      <td>21.0</td>\n",
              "      <td>166.0</td>\n",
              "      <td>33.099998</td>\n",
              "      <td>0.160</td>\n",
              "      <td>28.0</td>\n",
              "    </tr>\n",
              "    <tr>\n",
              "      <th>4</th>\n",
              "      <td>1.0</td>\n",
              "      <td>103.0</td>\n",
              "      <td>30.0</td>\n",
              "      <td>38.0</td>\n",
              "      <td>83.0</td>\n",
              "      <td>43.299999</td>\n",
              "      <td>0.183</td>\n",
              "      <td>33.0</td>\n",
              "    </tr>\n",
              "    <tr>\n",
              "      <th>...</th>\n",
              "      <td>...</td>\n",
              "      <td>...</td>\n",
              "      <td>...</td>\n",
              "      <td>...</td>\n",
              "      <td>...</td>\n",
              "      <td>...</td>\n",
              "      <td>...</td>\n",
              "      <td>...</td>\n",
              "    </tr>\n",
              "    <tr>\n",
              "      <th>532</th>\n",
              "      <td>5.0</td>\n",
              "      <td>139.0</td>\n",
              "      <td>64.0</td>\n",
              "      <td>35.0</td>\n",
              "      <td>140.0</td>\n",
              "      <td>28.600000</td>\n",
              "      <td>0.411</td>\n",
              "      <td>26.0</td>\n",
              "    </tr>\n",
              "    <tr>\n",
              "      <th>533</th>\n",
              "      <td>1.0</td>\n",
              "      <td>96.0</td>\n",
              "      <td>122.0</td>\n",
              "      <td>0.0</td>\n",
              "      <td>0.0</td>\n",
              "      <td>22.400000</td>\n",
              "      <td>0.207</td>\n",
              "      <td>27.0</td>\n",
              "    </tr>\n",
              "    <tr>\n",
              "      <th>534</th>\n",
              "      <td>10.0</td>\n",
              "      <td>101.0</td>\n",
              "      <td>86.0</td>\n",
              "      <td>37.0</td>\n",
              "      <td>0.0</td>\n",
              "      <td>45.599998</td>\n",
              "      <td>1.136</td>\n",
              "      <td>38.0</td>\n",
              "    </tr>\n",
              "    <tr>\n",
              "      <th>535</th>\n",
              "      <td>0.0</td>\n",
              "      <td>141.0</td>\n",
              "      <td>0.0</td>\n",
              "      <td>0.0</td>\n",
              "      <td>0.0</td>\n",
              "      <td>42.400002</td>\n",
              "      <td>0.205</td>\n",
              "      <td>29.0</td>\n",
              "    </tr>\n",
              "    <tr>\n",
              "      <th>536</th>\n",
              "      <td>0.0</td>\n",
              "      <td>125.0</td>\n",
              "      <td>96.0</td>\n",
              "      <td>0.0</td>\n",
              "      <td>0.0</td>\n",
              "      <td>22.500000</td>\n",
              "      <td>0.262</td>\n",
              "      <td>21.0</td>\n",
              "    </tr>\n",
              "  </tbody>\n",
              "</table>\n",
              "<p>537 rows × 8 columns</p>\n",
              "</div>"
            ],
            "text/plain": [
              "        0      1      2     3      4          5      6     7\n",
              "0     1.0   95.0   60.0  18.0   58.0  23.900000  0.260  22.0\n",
              "1     5.0  105.0   72.0  29.0  325.0  36.900002  0.159  28.0\n",
              "2     0.0  135.0   68.0  42.0  250.0  42.299999  0.365  24.0\n",
              "3     4.0  131.0   68.0  21.0  166.0  33.099998  0.160  28.0\n",
              "4     1.0  103.0   30.0  38.0   83.0  43.299999  0.183  33.0\n",
              "..    ...    ...    ...   ...    ...        ...    ...   ...\n",
              "532   5.0  139.0   64.0  35.0  140.0  28.600000  0.411  26.0\n",
              "533   1.0   96.0  122.0   0.0    0.0  22.400000  0.207  27.0\n",
              "534  10.0  101.0   86.0  37.0    0.0  45.599998  1.136  38.0\n",
              "535   0.0  141.0    0.0   0.0    0.0  42.400002  0.205  29.0\n",
              "536   0.0  125.0   96.0   0.0    0.0  22.500000  0.262  21.0\n",
              "\n",
              "[537 rows x 8 columns]"
            ]
          },
          "metadata": {
            "tags": []
          },
          "execution_count": 39
        }
      ]
    },
    {
      "cell_type": "markdown",
      "metadata": {
        "id": "dE4N7mW9QpE8"
      },
      "source": [
        "# ANN"
      ]
    },
    {
      "cell_type": "code",
      "metadata": {
        "colab": {
          "base_uri": "https://localhost:8080/"
        },
        "id": "-62GaPdjYMVL",
        "outputId": "ec8080a8-a7cb-4892-c824-de3746fabf2a"
      },
      "source": [
        "\n",
        "model = tf.keras.Sequential()\n",
        "model.add(tf.keras.layers.Dense(16, input_dim=X.shape[1], kernel_regularizer=tf.keras.regularizers.l2(0.001)))#activation = 'relu' ))\n",
        "model.add(tf.keras.layers.ELU(alpha=1))\n",
        "model.add(tf.keras.layers.Dropout(0.2))\n",
        "model.add(tf.keras.layers.Dense(16,kernel_regularizer=tf.keras.regularizers.l2(0.001)))# activation='relu'))\n",
        "model.add(tf.keras.layers.ELU(alpha=1))\n",
        "model.add(tf.keras.layers.Dropout(0.2))\n",
        "model.add(tf.keras.layers.Dense(16,kernel_regularizer=tf.keras.regularizers.l2(0.001)))# activation='relu'))\n",
        "model.add(tf.keras.layers.ELU(alpha=1))\n",
        "model.add(tf.keras.layers.Dropout(0.2))\n",
        "model.add(tf.keras.layers.Dense(16,kernel_regularizer=tf.keras.regularizers.l2(0.001)))# activation='relu'))\n",
        "model.add(tf.keras.layers.ELU(alpha=1))\n",
        "model.add(tf.keras.layers.Dense(1, activation='sigmoid'))\n",
        "model.summary()"
      ],
      "execution_count": 59,
      "outputs": [
        {
          "output_type": "stream",
          "text": [
            "Model: \"sequential_10\"\n",
            "_________________________________________________________________\n",
            "Layer (type)                 Output Shape              Param #   \n",
            "=================================================================\n",
            "dense_59 (Dense)             (None, 16)                144       \n",
            "_________________________________________________________________\n",
            "elu_20 (ELU)                 (None, 16)                0         \n",
            "_________________________________________________________________\n",
            "dropout_15 (Dropout)         (None, 16)                0         \n",
            "_________________________________________________________________\n",
            "dense_60 (Dense)             (None, 16)                272       \n",
            "_________________________________________________________________\n",
            "elu_21 (ELU)                 (None, 16)                0         \n",
            "_________________________________________________________________\n",
            "dropout_16 (Dropout)         (None, 16)                0         \n",
            "_________________________________________________________________\n",
            "dense_61 (Dense)             (None, 16)                272       \n",
            "_________________________________________________________________\n",
            "elu_22 (ELU)                 (None, 16)                0         \n",
            "_________________________________________________________________\n",
            "dropout_17 (Dropout)         (None, 16)                0         \n",
            "_________________________________________________________________\n",
            "dense_62 (Dense)             (None, 16)                272       \n",
            "_________________________________________________________________\n",
            "elu_23 (ELU)                 (None, 16)                0         \n",
            "_________________________________________________________________\n",
            "dense_63 (Dense)             (None, 1)                 17        \n",
            "=================================================================\n",
            "Total params: 977\n",
            "Trainable params: 977\n",
            "Non-trainable params: 0\n",
            "_________________________________________________________________\n"
          ],
          "name": "stdout"
        }
      ]
    },
    {
      "cell_type": "code",
      "metadata": {
        "colab": {
          "base_uri": "https://localhost:8080/"
        },
        "id": "On8N5WABSILs",
        "outputId": "918feb67-40a3-4a05-c397-a1a070704aa9"
      },
      "source": [
        "model.compile(optimizer='rmsprop', loss='MSE', metrics=['accuracy',]) #get_f1])\n",
        "history = model.fit(X_train, y_train, validation_split=0.20, batch_size=64, workers=-1, epochs=100, verbose=2, class_weight={0:0.35, 1:0.65})"
      ],
      "execution_count": 60,
      "outputs": [
        {
          "output_type": "stream",
          "text": [
            "Epoch 1/100\n",
            "7/7 - 1s - loss: 0.2801 - accuracy: 0.5478 - val_loss: 0.4387 - val_accuracy: 0.6204\n",
            "Epoch 2/100\n",
            "7/7 - 0s - loss: 0.2860 - accuracy: 0.5571 - val_loss: 0.4379 - val_accuracy: 0.6204\n",
            "Epoch 3/100\n",
            "7/7 - 0s - loss: 0.2868 - accuracy: 0.5664 - val_loss: 0.4373 - val_accuracy: 0.6204\n",
            "Epoch 4/100\n",
            "7/7 - 0s - loss: 0.2906 - accuracy: 0.5851 - val_loss: 0.4366 - val_accuracy: 0.6204\n",
            "Epoch 5/100\n",
            "7/7 - 0s - loss: 0.2651 - accuracy: 0.6037 - val_loss: 0.4318 - val_accuracy: 0.6204\n",
            "Epoch 6/100\n",
            "7/7 - 0s - loss: 0.2692 - accuracy: 0.5921 - val_loss: 0.4352 - val_accuracy: 0.6204\n",
            "Epoch 7/100\n",
            "7/7 - 0s - loss: 0.2587 - accuracy: 0.6084 - val_loss: 0.4059 - val_accuracy: 0.6389\n",
            "Epoch 8/100\n",
            "7/7 - 0s - loss: 0.2723 - accuracy: 0.5991 - val_loss: 0.3810 - val_accuracy: 0.6481\n",
            "Epoch 9/100\n",
            "7/7 - 0s - loss: 0.2661 - accuracy: 0.5828 - val_loss: 0.3552 - val_accuracy: 0.6852\n",
            "Epoch 10/100\n",
            "7/7 - 0s - loss: 0.2758 - accuracy: 0.5455 - val_loss: 0.3282 - val_accuracy: 0.7130\n",
            "Epoch 11/100\n",
            "7/7 - 0s - loss: 0.2570 - accuracy: 0.5828 - val_loss: 0.3526 - val_accuracy: 0.6852\n",
            "Epoch 12/100\n",
            "7/7 - 0s - loss: 0.2578 - accuracy: 0.5291 - val_loss: 0.4096 - val_accuracy: 0.6111\n",
            "Epoch 13/100\n",
            "7/7 - 0s - loss: 0.2596 - accuracy: 0.5082 - val_loss: 0.3940 - val_accuracy: 0.6019\n",
            "Epoch 14/100\n",
            "7/7 - 0s - loss: 0.2486 - accuracy: 0.5734 - val_loss: 0.4496 - val_accuracy: 0.5648\n",
            "Epoch 15/100\n",
            "7/7 - 0s - loss: 0.2756 - accuracy: 0.4732 - val_loss: 0.4213 - val_accuracy: 0.5926\n",
            "Epoch 16/100\n",
            "7/7 - 0s - loss: 0.2550 - accuracy: 0.5291 - val_loss: 0.4234 - val_accuracy: 0.5741\n",
            "Epoch 17/100\n",
            "7/7 - 0s - loss: 0.2449 - accuracy: 0.5548 - val_loss: 0.3246 - val_accuracy: 0.7130\n",
            "Epoch 18/100\n",
            "7/7 - 0s - loss: 0.2686 - accuracy: 0.5221 - val_loss: 0.3423 - val_accuracy: 0.6944\n",
            "Epoch 19/100\n",
            "7/7 - 0s - loss: 0.2623 - accuracy: 0.5431 - val_loss: 0.3674 - val_accuracy: 0.6574\n",
            "Epoch 20/100\n",
            "7/7 - 0s - loss: 0.2685 - accuracy: 0.4848 - val_loss: 0.3296 - val_accuracy: 0.6944\n",
            "Epoch 21/100\n",
            "7/7 - 0s - loss: 0.2474 - accuracy: 0.5804 - val_loss: 0.3446 - val_accuracy: 0.6852\n",
            "Epoch 22/100\n",
            "7/7 - 0s - loss: 0.2523 - accuracy: 0.5688 - val_loss: 0.3146 - val_accuracy: 0.7315\n",
            "Epoch 23/100\n",
            "7/7 - 0s - loss: 0.2366 - accuracy: 0.5921 - val_loss: 0.3130 - val_accuracy: 0.6944\n",
            "Epoch 24/100\n",
            "7/7 - 0s - loss: 0.2641 - accuracy: 0.5198 - val_loss: 0.3467 - val_accuracy: 0.6296\n",
            "Epoch 25/100\n",
            "7/7 - 0s - loss: 0.2609 - accuracy: 0.5245 - val_loss: 0.3287 - val_accuracy: 0.6944\n",
            "Epoch 26/100\n",
            "7/7 - 0s - loss: 0.2403 - accuracy: 0.5781 - val_loss: 0.2995 - val_accuracy: 0.6759\n",
            "Epoch 27/100\n",
            "7/7 - 0s - loss: 0.2267 - accuracy: 0.5874 - val_loss: 0.3063 - val_accuracy: 0.6759\n",
            "Epoch 28/100\n",
            "7/7 - 0s - loss: 0.2447 - accuracy: 0.5455 - val_loss: 0.4066 - val_accuracy: 0.5741\n",
            "Epoch 29/100\n",
            "7/7 - 0s - loss: 0.2589 - accuracy: 0.4872 - val_loss: 0.2874 - val_accuracy: 0.7130\n",
            "Epoch 30/100\n",
            "7/7 - 0s - loss: 0.2269 - accuracy: 0.5758 - val_loss: 0.3132 - val_accuracy: 0.6667\n",
            "Epoch 31/100\n",
            "7/7 - 0s - loss: 0.2312 - accuracy: 0.5967 - val_loss: 0.3028 - val_accuracy: 0.6759\n",
            "Epoch 32/100\n",
            "7/7 - 0s - loss: 0.2344 - accuracy: 0.5618 - val_loss: 0.3187 - val_accuracy: 0.6759\n",
            "Epoch 33/100\n",
            "7/7 - 0s - loss: 0.2187 - accuracy: 0.5897 - val_loss: 0.2838 - val_accuracy: 0.6944\n",
            "Epoch 34/100\n",
            "7/7 - 0s - loss: 0.2385 - accuracy: 0.4965 - val_loss: 0.3832 - val_accuracy: 0.6019\n",
            "Epoch 35/100\n",
            "7/7 - 0s - loss: 0.2377 - accuracy: 0.5338 - val_loss: 0.2976 - val_accuracy: 0.7037\n",
            "Epoch 36/100\n",
            "7/7 - 0s - loss: 0.2425 - accuracy: 0.5524 - val_loss: 0.3084 - val_accuracy: 0.6481\n",
            "Epoch 37/100\n",
            "7/7 - 0s - loss: 0.2348 - accuracy: 0.6107 - val_loss: 0.3441 - val_accuracy: 0.6296\n",
            "Epoch 38/100\n",
            "7/7 - 0s - loss: 0.2299 - accuracy: 0.6061 - val_loss: 0.3592 - val_accuracy: 0.6204\n",
            "Epoch 39/100\n",
            "7/7 - 0s - loss: 0.2403 - accuracy: 0.5991 - val_loss: 0.3369 - val_accuracy: 0.6296\n",
            "Epoch 40/100\n",
            "7/7 - 0s - loss: 0.2181 - accuracy: 0.6131 - val_loss: 0.3073 - val_accuracy: 0.6574\n",
            "Epoch 41/100\n",
            "7/7 - 0s - loss: 0.2370 - accuracy: 0.5781 - val_loss: 0.3421 - val_accuracy: 0.6296\n",
            "Epoch 42/100\n",
            "7/7 - 0s - loss: 0.2272 - accuracy: 0.5991 - val_loss: 0.2822 - val_accuracy: 0.6574\n",
            "Epoch 43/100\n",
            "7/7 - 0s - loss: 0.2160 - accuracy: 0.5967 - val_loss: 0.2960 - val_accuracy: 0.6759\n",
            "Epoch 44/100\n",
            "7/7 - 0s - loss: 0.2288 - accuracy: 0.5641 - val_loss: 0.2928 - val_accuracy: 0.6759\n",
            "Epoch 45/100\n",
            "7/7 - 0s - loss: 0.2427 - accuracy: 0.5408 - val_loss: 0.2934 - val_accuracy: 0.6667\n",
            "Epoch 46/100\n",
            "7/7 - 0s - loss: 0.2279 - accuracy: 0.5175 - val_loss: 0.3159 - val_accuracy: 0.6852\n",
            "Epoch 47/100\n",
            "7/7 - 0s - loss: 0.2211 - accuracy: 0.5082 - val_loss: 0.3230 - val_accuracy: 0.6574\n",
            "Epoch 48/100\n",
            "7/7 - 0s - loss: 0.2098 - accuracy: 0.5431 - val_loss: 0.3028 - val_accuracy: 0.6574\n",
            "Epoch 49/100\n",
            "7/7 - 0s - loss: 0.2182 - accuracy: 0.5338 - val_loss: 0.2758 - val_accuracy: 0.6852\n",
            "Epoch 50/100\n",
            "7/7 - 0s - loss: 0.2298 - accuracy: 0.5408 - val_loss: 0.2789 - val_accuracy: 0.6852\n",
            "Epoch 51/100\n",
            "7/7 - 0s - loss: 0.2185 - accuracy: 0.5734 - val_loss: 0.2834 - val_accuracy: 0.6667\n",
            "Epoch 52/100\n",
            "7/7 - 0s - loss: 0.2074 - accuracy: 0.5618 - val_loss: 0.2906 - val_accuracy: 0.6944\n",
            "Epoch 53/100\n",
            "7/7 - 0s - loss: 0.2095 - accuracy: 0.5501 - val_loss: 0.3084 - val_accuracy: 0.6852\n",
            "Epoch 54/100\n",
            "7/7 - 0s - loss: 0.2199 - accuracy: 0.5082 - val_loss: 0.3118 - val_accuracy: 0.6667\n",
            "Epoch 55/100\n",
            "7/7 - 0s - loss: 0.2018 - accuracy: 0.5478 - val_loss: 0.3281 - val_accuracy: 0.6667\n",
            "Epoch 56/100\n",
            "7/7 - 0s - loss: 0.2097 - accuracy: 0.5524 - val_loss: 0.2783 - val_accuracy: 0.6667\n",
            "Epoch 57/100\n",
            "7/7 - 0s - loss: 0.2055 - accuracy: 0.5921 - val_loss: 0.2781 - val_accuracy: 0.6667\n",
            "Epoch 58/100\n",
            "7/7 - 0s - loss: 0.2199 - accuracy: 0.5478 - val_loss: 0.2743 - val_accuracy: 0.6481\n",
            "Epoch 59/100\n",
            "7/7 - 0s - loss: 0.1948 - accuracy: 0.5734 - val_loss: 0.2879 - val_accuracy: 0.6204\n",
            "Epoch 60/100\n",
            "7/7 - 0s - loss: 0.2100 - accuracy: 0.5431 - val_loss: 0.2831 - val_accuracy: 0.6389\n",
            "Epoch 61/100\n",
            "7/7 - 0s - loss: 0.1841 - accuracy: 0.5897 - val_loss: 0.2824 - val_accuracy: 0.6667\n",
            "Epoch 62/100\n",
            "7/7 - 0s - loss: 0.1859 - accuracy: 0.5897 - val_loss: 0.2763 - val_accuracy: 0.6944\n",
            "Epoch 63/100\n",
            "7/7 - 0s - loss: 0.1970 - accuracy: 0.5618 - val_loss: 0.2971 - val_accuracy: 0.6481\n",
            "Epoch 64/100\n",
            "7/7 - 0s - loss: 0.1916 - accuracy: 0.5734 - val_loss: 0.2765 - val_accuracy: 0.6759\n",
            "Epoch 65/100\n",
            "7/7 - 0s - loss: 0.1848 - accuracy: 0.5734 - val_loss: 0.2801 - val_accuracy: 0.6389\n",
            "Epoch 66/100\n",
            "7/7 - 0s - loss: 0.2057 - accuracy: 0.5245 - val_loss: 0.2849 - val_accuracy: 0.6481\n",
            "Epoch 67/100\n",
            "7/7 - 0s - loss: 0.1903 - accuracy: 0.5688 - val_loss: 0.2816 - val_accuracy: 0.6667\n",
            "Epoch 68/100\n",
            "7/7 - 0s - loss: 0.1791 - accuracy: 0.5897 - val_loss: 0.2757 - val_accuracy: 0.6296\n",
            "Epoch 69/100\n",
            "7/7 - 0s - loss: 0.1878 - accuracy: 0.5758 - val_loss: 0.2863 - val_accuracy: 0.6667\n",
            "Epoch 70/100\n",
            "7/7 - 0s - loss: 0.1906 - accuracy: 0.5501 - val_loss: 0.2729 - val_accuracy: 0.6481\n",
            "Epoch 71/100\n",
            "7/7 - 0s - loss: 0.1804 - accuracy: 0.6247 - val_loss: 0.2553 - val_accuracy: 0.6574\n",
            "Epoch 72/100\n",
            "7/7 - 0s - loss: 0.1763 - accuracy: 0.6224 - val_loss: 0.2563 - val_accuracy: 0.6852\n",
            "Epoch 73/100\n",
            "7/7 - 0s - loss: 0.1840 - accuracy: 0.6154 - val_loss: 0.2525 - val_accuracy: 0.6667\n",
            "Epoch 74/100\n",
            "7/7 - 0s - loss: 0.1818 - accuracy: 0.5688 - val_loss: 0.2521 - val_accuracy: 0.6667\n",
            "Epoch 75/100\n",
            "7/7 - 0s - loss: 0.1833 - accuracy: 0.5967 - val_loss: 0.2468 - val_accuracy: 0.7315\n",
            "Epoch 76/100\n",
            "7/7 - 0s - loss: 0.1685 - accuracy: 0.5781 - val_loss: 0.2523 - val_accuracy: 0.6574\n",
            "Epoch 77/100\n",
            "7/7 - 0s - loss: 0.1621 - accuracy: 0.6154 - val_loss: 0.2510 - val_accuracy: 0.7037\n",
            "Epoch 78/100\n",
            "7/7 - 0s - loss: 0.1765 - accuracy: 0.5711 - val_loss: 0.2526 - val_accuracy: 0.6944\n",
            "Epoch 79/100\n",
            "7/7 - 0s - loss: 0.1798 - accuracy: 0.5478 - val_loss: 0.2520 - val_accuracy: 0.6852\n",
            "Epoch 80/100\n",
            "7/7 - 0s - loss: 0.1897 - accuracy: 0.5291 - val_loss: 0.2554 - val_accuracy: 0.6852\n",
            "Epoch 81/100\n",
            "7/7 - 0s - loss: 0.1768 - accuracy: 0.5804 - val_loss: 0.2497 - val_accuracy: 0.7130\n",
            "Epoch 82/100\n",
            "7/7 - 0s - loss: 0.1658 - accuracy: 0.6434 - val_loss: 0.2540 - val_accuracy: 0.7037\n",
            "Epoch 83/100\n",
            "7/7 - 0s - loss: 0.1680 - accuracy: 0.5851 - val_loss: 0.2520 - val_accuracy: 0.6852\n",
            "Epoch 84/100\n",
            "7/7 - 0s - loss: 0.1761 - accuracy: 0.5897 - val_loss: 0.2891 - val_accuracy: 0.6389\n",
            "Epoch 85/100\n",
            "7/7 - 0s - loss: 0.1721 - accuracy: 0.5921 - val_loss: 0.2798 - val_accuracy: 0.6574\n",
            "Epoch 86/100\n",
            "7/7 - 0s - loss: 0.1667 - accuracy: 0.6014 - val_loss: 0.2517 - val_accuracy: 0.6944\n",
            "Epoch 87/100\n",
            "7/7 - 0s - loss: 0.1727 - accuracy: 0.5688 - val_loss: 0.2454 - val_accuracy: 0.6944\n",
            "Epoch 88/100\n",
            "7/7 - 0s - loss: 0.1578 - accuracy: 0.6247 - val_loss: 0.2493 - val_accuracy: 0.6574\n",
            "Epoch 89/100\n",
            "7/7 - 0s - loss: 0.1688 - accuracy: 0.5524 - val_loss: 0.2394 - val_accuracy: 0.6852\n",
            "Epoch 90/100\n",
            "7/7 - 0s - loss: 0.1508 - accuracy: 0.6340 - val_loss: 0.2593 - val_accuracy: 0.6574\n",
            "Epoch 91/100\n",
            "7/7 - 0s - loss: 0.1561 - accuracy: 0.6387 - val_loss: 0.2400 - val_accuracy: 0.7130\n",
            "Epoch 92/100\n",
            "7/7 - 0s - loss: 0.1546 - accuracy: 0.6270 - val_loss: 0.2355 - val_accuracy: 0.6944\n",
            "Epoch 93/100\n",
            "7/7 - 0s - loss: 0.1678 - accuracy: 0.5781 - val_loss: 0.2319 - val_accuracy: 0.7222\n",
            "Epoch 94/100\n",
            "7/7 - 0s - loss: 0.1709 - accuracy: 0.5618 - val_loss: 0.2327 - val_accuracy: 0.7130\n",
            "Epoch 95/100\n",
            "7/7 - 0s - loss: 0.1588 - accuracy: 0.5921 - val_loss: 0.2639 - val_accuracy: 0.6667\n",
            "Epoch 96/100\n",
            "7/7 - 0s - loss: 0.1570 - accuracy: 0.6131 - val_loss: 0.2605 - val_accuracy: 0.6574\n",
            "Epoch 97/100\n",
            "7/7 - 0s - loss: 0.1574 - accuracy: 0.6107 - val_loss: 0.2410 - val_accuracy: 0.6667\n",
            "Epoch 98/100\n",
            "7/7 - 0s - loss: 0.1659 - accuracy: 0.5688 - val_loss: 0.2336 - val_accuracy: 0.6944\n",
            "Epoch 99/100\n",
            "7/7 - 0s - loss: 0.1478 - accuracy: 0.6037 - val_loss: 0.2375 - val_accuracy: 0.6759\n",
            "Epoch 100/100\n",
            "7/7 - 0s - loss: 0.1498 - accuracy: 0.5944 - val_loss: 0.2322 - val_accuracy: 0.6944\n"
          ],
          "name": "stdout"
        }
      ]
    },
    {
      "cell_type": "code",
      "metadata": {
        "id": "--ykqAgtPUjX",
        "colab": {
          "base_uri": "https://localhost:8080/"
        },
        "outputId": "273310b5-b927-4586-9711-25c6cb70f545"
      },
      "source": [
        "\n",
        "y_pred_ann = model.predict(X_test)\n",
        "y_pred_ann = (y_pred_ann > 0.5)\n",
        "from sklearn.metrics import confusion_matrix, accuracy_score\n",
        "\n",
        "accuracy_score(y_test, y_pred_ann)"
      ],
      "execution_count": 62,
      "outputs": [
        {
          "output_type": "execute_result",
          "data": {
            "text/plain": [
              "0.7012987012987013"
            ]
          },
          "metadata": {
            "tags": []
          },
          "execution_count": 62
        }
      ]
    },
    {
      "cell_type": "code",
      "metadata": {
        "colab": {
          "base_uri": "https://localhost:8080/"
        },
        "id": "ImeZIAeyaM9h",
        "outputId": "9898304e-49cc-4d23-fa26-275782b3b8c7"
      },
      "source": [
        "pr = model.predict([[4 , 148, 72 ,35,0,51,0.21,50]])\n",
        "if pr >0.5:\n",
        "  print('YEP')\n",
        "else:\n",
        "  print('NOPE')"
      ],
      "execution_count": 28,
      "outputs": [
        {
          "output_type": "stream",
          "text": [
            "YEP\n"
          ],
          "name": "stdout"
        }
      ]
    },
    {
      "cell_type": "markdown",
      "metadata": {
        "id": "YhP1Gwo8Q2dU"
      },
      "source": [
        "# Machine Learning Classic Models"
      ]
    },
    {
      "cell_type": "markdown",
      "metadata": {
        "id": "YftwQ5brVJ_O"
      },
      "source": [
        "# Logistic Regression"
      ]
    },
    {
      "cell_type": "code",
      "metadata": {
        "id": "u2vrJTStQ8L9"
      },
      "source": [
        "import numpy as np\n",
        "import pandas as pd\n",
        "from sklearn.model_selection import train_test_split\n",
        "from sklearn.linear_model import LogisticRegression\n",
        "from sklearn.model_selection import GridSearchCV\n",
        "from sklearn.model_selection import cross_val_score\n",
        "from sklearn import preprocessing\n",
        "import warnings\n",
        "import joblib"
      ],
      "execution_count": 37,
      "outputs": []
    },
    {
      "cell_type": "code",
      "metadata": {
        "id": "GtM4EoXURbH0"
      },
      "source": [
        "min_max_scaler = preprocessing.MinMaxScaler()\n",
        "X_train_minmax = min_max_scaler.fit_transform(X)\n",
        "X_train, X_test, y_train, y_test = train_test_split(X_train_minmax, y, test_size=0.33, random_state=42)"
      ],
      "execution_count": 64,
      "outputs": []
    },
    {
      "cell_type": "code",
      "metadata": {
        "colab": {
          "base_uri": "https://localhost:8080/"
        },
        "id": "nAbJhh8nRrGk",
        "outputId": "79be940c-5577-4b59-c684-d8ef872b62dc"
      },
      "source": [
        "parameters = {'C': np.linspace(0.0001, 100, 40)}\n",
        "grid_search = GridSearchCV(LogisticRegression(max_iter=3000, class_weight={0:0.35, 1:0.65}), parameters, n_jobs=-1)\n",
        "grid_search.fit(X_train, y_train)\n",
        "\n",
        "print('best parameters: ', grid_search.best_params_)\n",
        "print('best scrores: ', grid_search.best_score_)"
      ],
      "execution_count": 67,
      "outputs": [
        {
          "output_type": "stream",
          "text": [
            "best parameters:  {'C': 2.5642}\n",
            "best scrores:  0.7645345516847516\n"
          ],
          "name": "stdout"
        }
      ]
    },
    {
      "cell_type": "code",
      "metadata": {
        "colab": {
          "base_uri": "https://localhost:8080/"
        },
        "id": "R1rBOmQwUio1",
        "outputId": "dcd93514-004b-400d-c7c4-5adde86e9c49"
      },
      "source": [
        "lr_clf = LogisticRegression(C=2.5642, max_iter=3000, class_weight={0:0.35, 1:0.65})\n",
        "lr_clf.fit(X_train, y_train)"
      ],
      "execution_count": 68,
      "outputs": [
        {
          "output_type": "execute_result",
          "data": {
            "text/plain": [
              "LogisticRegression(C=2.5642, class_weight={0: 0.35, 1: 0.65}, dual=False,\n",
              "                   fit_intercept=True, intercept_scaling=1, l1_ratio=None,\n",
              "                   max_iter=3000, multi_class='auto', n_jobs=None, penalty='l2',\n",
              "                   random_state=None, solver='lbfgs', tol=0.0001, verbose=0,\n",
              "                   warm_start=False)"
            ]
          },
          "metadata": {
            "tags": []
          },
          "execution_count": 68
        }
      ]
    },
    {
      "cell_type": "code",
      "metadata": {
        "colab": {
          "base_uri": "https://localhost:8080/"
        },
        "id": "ZSWnTtWaUl4u",
        "outputId": "d9f18351-9732-4960-dde3-0e71368a4415"
      },
      "source": [
        "print(lr_clf.score(X_test, y_test))"
      ],
      "execution_count": 72,
      "outputs": [
        {
          "output_type": "stream",
          "text": [
            "0.7086614173228346\n"
          ],
          "name": "stdout"
        }
      ]
    },
    {
      "cell_type": "code",
      "metadata": {
        "colab": {
          "base_uri": "https://localhost:8080/"
        },
        "id": "EbpluEauVEYE",
        "outputId": "5320f594-ba08-4fc6-fff2-27a385f64c65"
      },
      "source": [
        "from sklearn.metrics import f1_score\n",
        "y_hat = lr_clf.predict(X_test)\n",
        "f1 = f1_score(y_test, y_hat)\n",
        "print (f\"f1 socre is: {f1} \")"
      ],
      "execution_count": 73,
      "outputs": [
        {
          "output_type": "stream",
          "text": [
            "f1 socre is: 0.6145833333333333 \n"
          ],
          "name": "stdout"
        }
      ]
    },
    {
      "cell_type": "markdown",
      "metadata": {
        "id": "-OccLzqTVNhT"
      },
      "source": [
        "# SVM"
      ]
    },
    {
      "cell_type": "code",
      "metadata": {
        "id": "BJSwB7ocVbks"
      },
      "source": [
        "from sklearn import svm"
      ],
      "execution_count": 77,
      "outputs": []
    },
    {
      "cell_type": "code",
      "metadata": {
        "colab": {
          "base_uri": "https://localhost:8080/"
        },
        "id": "eWnHG7gTVQ5D",
        "outputId": "3cee521d-8b34-43a0-82cb-3e0f6f3c85ae"
      },
      "source": [
        "parameters = {'C': np.linspace(0.0001, 100, 40)}\n",
        "grid_search = GridSearchCV(svm.SVC(probability=True, max_iter=300, class_weight={1: 0.65, 0:0.35}), parameters, n_jobs=-1)\n",
        "grid_search.fit(X_train, y_train)\n",
        "\n",
        "print('best parameters: ', grid_search.best_params_)\n",
        "print('best scrores: ', grid_search.best_score_)"
      ],
      "execution_count": 78,
      "outputs": [
        {
          "output_type": "stream",
          "text": [
            "best parameters:  {'C': 28.205199999999998}\n",
            "best scrores:  0.7470778602703217\n"
          ],
          "name": "stdout"
        },
        {
          "output_type": "stream",
          "text": [
            "/usr/local/lib/python3.7/dist-packages/sklearn/svm/_base.py:231: ConvergenceWarning: Solver terminated early (max_iter=300).  Consider pre-processing your data with StandardScaler or MinMaxScaler.\n",
            "  % self.max_iter, ConvergenceWarning)\n"
          ],
          "name": "stderr"
        }
      ]
    },
    {
      "cell_type": "code",
      "metadata": {
        "colab": {
          "base_uri": "https://localhost:8080/"
        },
        "id": "SDB6VVKAVfiV",
        "outputId": "9cbada3f-2780-4e38-a379-5af696560b79"
      },
      "source": [
        "clf = svm.SVC(C=28.205199999999998, gamma='auto', probability=True, verbose=True, max_iter=3000, class_weight={1: 0.65, 0:0.35})\n",
        "clf.fit(X_train, y_train)"
      ],
      "execution_count": 79,
      "outputs": [
        {
          "output_type": "stream",
          "text": [
            "[LibSVM]"
          ],
          "name": "stdout"
        },
        {
          "output_type": "execute_result",
          "data": {
            "text/plain": [
              "SVC(C=28.205199999999998, break_ties=False, cache_size=200,\n",
              "    class_weight={0: 0.35, 1: 0.65}, coef0=0.0, decision_function_shape='ovr',\n",
              "    degree=3, gamma='auto', kernel='rbf', max_iter=3000, probability=True,\n",
              "    random_state=None, shrinking=True, tol=0.001, verbose=True)"
            ]
          },
          "metadata": {
            "tags": []
          },
          "execution_count": 79
        }
      ]
    },
    {
      "cell_type": "code",
      "metadata": {
        "colab": {
          "base_uri": "https://localhost:8080/"
        },
        "id": "EpXadI-HVmVd",
        "outputId": "2bb7942e-5adf-4828-8663-d61bdc6f70bd"
      },
      "source": [
        "clf.score(X_test, y_test)"
      ],
      "execution_count": 80,
      "outputs": [
        {
          "output_type": "execute_result",
          "data": {
            "text/plain": [
              "0.7125984251968503"
            ]
          },
          "metadata": {
            "tags": []
          },
          "execution_count": 80
        }
      ]
    },
    {
      "cell_type": "markdown",
      "metadata": {
        "id": "r_SuT8eMVzDm"
      },
      "source": [
        "# Naive Bayse"
      ]
    },
    {
      "cell_type": "code",
      "metadata": {
        "id": "QXf0LLfcV2q5"
      },
      "source": [
        "from sklearn.naive_bayes import GaussianNB\n",
        "\n",
        "gnb = GaussianNB()\n",
        "y_pred = gnb.fit(X_train, y_train).predict(X_test)"
      ],
      "execution_count": 81,
      "outputs": []
    },
    {
      "cell_type": "code",
      "metadata": {
        "colab": {
          "base_uri": "https://localhost:8080/"
        },
        "id": "PiXooqemV5yp",
        "outputId": "6527d83b-2506-4c7a-fb02-b4949172ce03"
      },
      "source": [
        "from sklearn.metrics import f1_score\n",
        "f1 = f1_score(y_test, y_pred)\n",
        "print (f\"f1 socre is: {f1} \")"
      ],
      "execution_count": 82,
      "outputs": [
        {
          "output_type": "stream",
          "text": [
            "f1 socre is: 0.6171428571428572 \n"
          ],
          "name": "stdout"
        }
      ]
    },
    {
      "cell_type": "code",
      "metadata": {
        "colab": {
          "base_uri": "https://localhost:8080/"
        },
        "id": "WMC-lxYTV92g",
        "outputId": "7b2082be-e7b2-44bc-c222-361247cde727"
      },
      "source": [
        "gnb.score(X_test, y_test)"
      ],
      "execution_count": 84,
      "outputs": [
        {
          "output_type": "execute_result",
          "data": {
            "text/plain": [
              "0.7362204724409449"
            ]
          },
          "metadata": {
            "tags": []
          },
          "execution_count": 84
        }
      ]
    },
    {
      "cell_type": "markdown",
      "metadata": {
        "id": "CcMd3AJdWlLF"
      },
      "source": [
        "# Decision Tree"
      ]
    },
    {
      "cell_type": "code",
      "metadata": {
        "colab": {
          "base_uri": "https://localhost:8080/"
        },
        "id": "TIfNdi6HWogz",
        "outputId": "e9ada286-0100-46fd-bb25-2933bba12843"
      },
      "source": [
        "from sklearn.tree import DecisionTreeClassifier\n",
        "classifier = DecisionTreeClassifier(criterion = 'entropy', random_state = 0)\n",
        "classifier.fit(X_train, y_train)"
      ],
      "execution_count": 85,
      "outputs": [
        {
          "output_type": "execute_result",
          "data": {
            "text/plain": [
              "DecisionTreeClassifier(ccp_alpha=0.0, class_weight=None, criterion='entropy',\n",
              "                       max_depth=None, max_features=None, max_leaf_nodes=None,\n",
              "                       min_impurity_decrease=0.0, min_impurity_split=None,\n",
              "                       min_samples_leaf=1, min_samples_split=2,\n",
              "                       min_weight_fraction_leaf=0.0, presort='deprecated',\n",
              "                       random_state=0, splitter='best')"
            ]
          },
          "metadata": {
            "tags": []
          },
          "execution_count": 85
        }
      ]
    },
    {
      "cell_type": "code",
      "metadata": {
        "colab": {
          "base_uri": "https://localhost:8080/"
        },
        "id": "Z6c2NzU0Wwsl",
        "outputId": "a582e104-24cb-473d-a3fe-f825f37df089"
      },
      "source": [
        "y_pred = classifier.predict(X_test)\n",
        "from sklearn.metrics import confusion_matrix, accuracy_score\n",
        "cm = confusion_matrix(y_test, y_pred)\n",
        "print(cm)\n",
        "accuracy_score(y_test, y_pred)"
      ],
      "execution_count": 87,
      "outputs": [
        {
          "output_type": "stream",
          "text": [
            "[[129  39]\n",
            " [ 35  51]]\n"
          ],
          "name": "stdout"
        },
        {
          "output_type": "execute_result",
          "data": {
            "text/plain": [
              "0.7086614173228346"
            ]
          },
          "metadata": {
            "tags": []
          },
          "execution_count": 87
        }
      ]
    },
    {
      "cell_type": "markdown",
      "metadata": {
        "id": "6sqdh-Z5XGhs"
      },
      "source": [
        "# Random_Forest"
      ]
    },
    {
      "cell_type": "code",
      "metadata": {
        "colab": {
          "base_uri": "https://localhost:8080/"
        },
        "id": "8YQpgKiMXJfb",
        "outputId": "857adfb8-c649-4304-ac40-31d7ae6aba83"
      },
      "source": [
        "from sklearn.ensemble import RandomForestClassifier\n",
        "classifier = RandomForestClassifier(n_estimators = 10, criterion = 'entropy', random_state = 0)\n",
        "classifier.fit(X_train, y_train)"
      ],
      "execution_count": 88,
      "outputs": [
        {
          "output_type": "execute_result",
          "data": {
            "text/plain": [
              "RandomForestClassifier(bootstrap=True, ccp_alpha=0.0, class_weight=None,\n",
              "                       criterion='entropy', max_depth=None, max_features='auto',\n",
              "                       max_leaf_nodes=None, max_samples=None,\n",
              "                       min_impurity_decrease=0.0, min_impurity_split=None,\n",
              "                       min_samples_leaf=1, min_samples_split=2,\n",
              "                       min_weight_fraction_leaf=0.0, n_estimators=10,\n",
              "                       n_jobs=None, oob_score=False, random_state=0, verbose=0,\n",
              "                       warm_start=False)"
            ]
          },
          "metadata": {
            "tags": []
          },
          "execution_count": 88
        }
      ]
    },
    {
      "cell_type": "code",
      "metadata": {
        "colab": {
          "base_uri": "https://localhost:8080/"
        },
        "id": "6tIqYumiXMRU",
        "outputId": "b18873a2-0f32-416f-d101-eaaefc82145f"
      },
      "source": [
        "y_pred = classifier.predict(X_test)\n",
        "from sklearn.metrics import confusion_matrix, accuracy_score\n",
        "cm = confusion_matrix(y_test, y_pred)\n",
        "print(cm)\n",
        "accuracy_score(y_test, y_pred)"
      ],
      "execution_count": 89,
      "outputs": [
        {
          "output_type": "stream",
          "text": [
            "[[142  26]\n",
            " [ 37  49]]\n"
          ],
          "name": "stdout"
        },
        {
          "output_type": "execute_result",
          "data": {
            "text/plain": [
              "0.7519685039370079"
            ]
          },
          "metadata": {
            "tags": []
          },
          "execution_count": 89
        }
      ]
    }
  ]
}